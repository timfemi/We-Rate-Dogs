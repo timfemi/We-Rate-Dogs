{
 "cells": [
  {
   "cell_type": "markdown",
   "metadata": {},
   "source": [
    "### Act_report"
   ]
  },
  {
   "cell_type": "markdown",
   "metadata": {},
   "source": [
    "## We Rate Dogs Twitter Dataset Wrangling External Report\n",
    "- Heyy there, have you ever thought of getting a Dog breed and you are confused as to which one you want to buy, when you search online, you go through Twitter to see which breed is best for you and you are confused, This report is here for you. \n",
    "- Lucky you, these questions will be answered in this research.\n",
    "\n",
    "- This report talks about key insights and visualizations from a cleaned twitter archive data dataset using some analytical methods.\n",
    "- Three questions are illustrated in the analysis;"
   ]
  },
  {
   "cell_type": "markdown",
   "metadata": {},
   "source": [
    "### 1. Which breed is most common?\n",
    "- A bar graph is used to answer this question"
   ]
  },
  {
   "cell_type": "markdown",
   "metadata": {},
   "source": [
    "<img src= \"Dog Breed vs Count.png\" Title=\"Dog Breed Vs Count\">"
   ]
  },
  {
   "cell_type": "markdown",
   "metadata": {},
   "source": [
    "- The most common breed in the analysis is Golden retriever with a number of 139 Dogs in the data. The next is Labrador Retriever "
   ]
  },
  {
   "cell_type": "markdown",
   "metadata": {},
   "source": [
    "### 2.  Which breed got the highest average rating?"
   ]
  },
  {
   "cell_type": "markdown",
   "metadata": {},
   "source": [
    "<img src= \"Average Rating.png\" Title=\"Dog Breed Average Rating\">"
   ]
  },
  {
   "cell_type": "markdown",
   "metadata": {},
   "source": [
    "- After removing leser confidence of predictions and data that does not conform to dogs, the analysis shows that Soft Coated Wheaten Terrier is the dog with the highest average rating, this could further show that this dog is rated highly based on it's characteristics."
   ]
  },
  {
   "cell_type": "markdown",
   "metadata": {},
   "source": [
    "### 3. Which breed is the most favorite? \n",
    "- A bar graph and correlarion map is used to answer this question."
   ]
  },
  {
   "cell_type": "markdown",
   "metadata": {},
   "source": [
    "<img src= \"Most Favorite.png\" Title=\"Dog Breed Average Rating\">"
   ]
  },
  {
   "cell_type": "markdown",
   "metadata": {},
   "source": [
    "<img src= \"Correlation chart.png\" Title=\"Dog Breed Average Rating\">"
   ]
  },
  {
   "cell_type": "markdown",
   "metadata": {},
   "source": [
    "<img src= \"Correlation map.png\" Title=\"Dog Breed Average Rating\">"
   ]
  },
  {
   "cell_type": "markdown",
   "metadata": {},
   "source": [
    "#### From the above, it can be seen that Afghan Hound is the dog with the count of most favourites by peoople and also, in the correlation map, favorite count which can also mean the likes is highly correlated (0.928404 or 92.84%) with retweets, this further shows that Afghan Hound is the most liked dog by tweets considered in the analysis."
   ]
  },
  {
   "cell_type": "code",
   "execution_count": null,
   "metadata": {},
   "outputs": [],
   "source": []
  }
 ],
 "metadata": {
  "kernelspec": {
   "display_name": "Python 3 (ipykernel)",
   "language": "python",
   "name": "python3"
  },
  "language_info": {
   "codemirror_mode": {
    "name": "ipython",
    "version": 3
   },
   "file_extension": ".py",
   "mimetype": "text/x-python",
   "name": "python",
   "nbconvert_exporter": "python",
   "pygments_lexer": "ipython3",
   "version": "3.9.12"
  }
 },
 "nbformat": 4,
 "nbformat_minor": 2
}
