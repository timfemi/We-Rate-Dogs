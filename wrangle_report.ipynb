{
 "cells": [
  {
   "cell_type": "markdown",
   "metadata": {},
   "source": [
    "#  Wrangle Report\n",
    "- This report documents the steps taken to gather, clean and store the data.\n",
    "\n",
    "## Gathering\n",
    "- The project includes three datasets, the first dataset was a csv, (`twitter-archive-enhanced.csv`) provided by Udacity that required manual downloading, the second dataset was a tab separated value text hosted on Udacty's servers which was downloaded programmatically using the `Requests` library. The final data was gotten using twitter API. \n",
    "- In using the `tweet_ids` in the first dataset I queried the API for each tweets JSON data using the python's `Tweepy` library and stored each entire set of json data in a file called `tweet_json.txt` file\n",
    "\n",
    "## Accessing the data\n",
    "- The data was programmatically and visually accessed and the following issues were identified:\n",
    "\n",
    "### Quality issues\n",
    "1. Retweetted data was not needed\n",
    "\n",
    "2. Dogs have None names- Wrong.\n",
    "\n",
    "3. Numerator and Denominator-  int\n",
    "\n",
    "4. Some values in rating_numerator column were less than \"10\"\n",
    "\n",
    "5. There were \"0\" Values for denominator. (This would give an error)\n",
    "\n",
    "6. Drop unneccessary columns in image_predict (Columns that would not be usewd in my analysis)\n",
    "\n",
    "7. Inconsistent Breed names.\n",
    "\n",
    "8. Non Descriptive Columns.\n",
    "\n",
    "9. Some data were not dogs in the Image predict Table.\n",
    "\n",
    "10. Incorrect datatype for timestamps\n",
    "\n",
    "11. Inconsistent column attribute for merging accross all data frame.\n",
    "\n",
    "12. Wrong type for tweet_id.\n",
    "\n",
    "### Tidiness\n",
    "1. Join the three datasets together\n",
    "\n",
    "2. Doggo, Fluffer, Puppo and Pupper should be represented in a column as development stage.\n",
    "\n",
    "## Cleaning\n",
    "- All the issues found were cleaned with codes.\n",
    "\n",
    "## Storing\n",
    "- The data was stored in a file called `twitter_archive_master.csv`\n",
    "\n",
    "## Analysis and Visualization\n",
    "- I was looking into breeds and seeing the reasons which breed is most common, most liked and most rated, this would guide any potential buyer of a Dog breed on what to buy based on other people's views of Dog breeds."
   ]
  },
  {
   "cell_type": "code",
   "execution_count": null,
   "metadata": {},
   "outputs": [],
   "source": []
  }
 ],
 "metadata": {
  "kernelspec": {
   "display_name": "Python 3 (ipykernel)",
   "language": "python",
   "name": "python3"
  },
  "language_info": {
   "codemirror_mode": {
    "name": "ipython",
    "version": 3
   },
   "file_extension": ".py",
   "mimetype": "text/x-python",
   "name": "python",
   "nbconvert_exporter": "python",
   "pygments_lexer": "ipython3",
   "version": "3.9.12"
  }
 },
 "nbformat": 4,
 "nbformat_minor": 2
}
